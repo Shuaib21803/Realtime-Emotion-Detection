{
 "cells": [
  {
   "cell_type": "markdown",
   "id": "0a76b90d",
   "metadata": {},
   "source": [
    "# Real-Time Speech Emotion Detection"
   ]
  },
  {
   "cell_type": "code",
   "execution_count": 8,
   "id": "252057b2",
   "metadata": {},
   "outputs": [
    {
     "name": "stdout",
     "output_type": "stream",
     "text": [
      "1/1 [==============================] - 0s 59ms/step\n"
     ]
    }
   ],
   "source": [
    "import tkinter as tk\n",
    "from tkinter import *\n",
    "import sounddevice as sd\n",
    "import numpy as np\n",
    "import threading\n",
    "import os\n",
    "import soundfile as sf\n",
    "import time\n",
    "from tensorflow.keras.models import model_from_json\n",
    "from IPython.display import clear_output\n",
    "%run functions.ipynb\n",
    "\n",
    "with open('model_a1.json',\"r\") as file:\n",
    "    loaded_model_json = file.read()\n",
    "    model = model_from_json(loaded_model_json)\n",
    "model.load_weights('model_weights4.h5')\n",
    "model.compile(optimizer='adam', loss = 'categorical_crossentropy', metrics=['accuracy'])\n",
    "\n",
    "\n",
    "def start_recording():\n",
    "    global recording_thread\n",
    "    label1.configure(foreground=\"#011638\", text=\"\")\n",
    "    start_button.config(state=tk.DISABLED)\n",
    "    stop_button.config(state=tk.NORMAL)\n",
    "    recording_thread = threading.Thread(target=record_audio)\n",
    "    recording_thread.start()\n",
    "\n",
    "    \n",
    "def stop_recording():\n",
    "    global is_recording\n",
    "    start_button.config(state=tk.NORMAL)\n",
    "    stop_button.config(state=tk.DISABLED)\n",
    "    is_recording = False\n",
    "    recording_thread.join(timeout=0.5)\n",
    "    time.sleep(0.1)\n",
    "            \n",
    "\n",
    "def record_audio():\n",
    "    global recording_thread, is_recording, filepath\n",
    "    is_recording = True\n",
    "    sr = 44100\n",
    "    recording = []\n",
    "    def callback(indata, frames, time, status):\n",
    "        if status:\n",
    "            print(status, file=sys.stderr)\n",
    "        recording.append(indata.copy())\n",
    "    with sd.InputStream(callback=callback, channels=2, dtype=np.int16):\n",
    "        while is_recording:\n",
    "            sd.sleep(100)\n",
    "    recording = np.concatenate(recording, axis=0)\n",
    "    filename = \"sample_audio.wav\"\n",
    "    sf.write(filename, recording, sr)\n",
    "    filepath = os.path.abspath(filename)\n",
    "    predicted_emotion(filepath)\n",
    "\n",
    "    \n",
    "def predicted_emotion(filepath):\n",
    "    try:\n",
    "        import numpy as np\n",
    "        features = extract(filepath, mfcc=True, chroma=True, mel=True)\n",
    "        features_reshaped = np.expand_dims(features, axis=0)\n",
    "        emotion_index = np.argmax(model.predict(features_reshaped))\n",
    "        pred = EMOTIONS_LIST_s[emotion_index]\n",
    "        label1.configure(foreground=\"#011638\", text=pred.capitalize())\n",
    "        clear_output(wait=True)\n",
    "    except Exception as e:\n",
    "        print(f\"Error detecting emotion: {e}\")\n",
    "        label1.configure(foreground=\"#011638\", text=\"Unable to detect\")    \n",
    "\n",
    "EMOTIONS_LIST_s = ['neutral','calm','happy','sad','angry','fearful','disgust','surprised']       \n",
    "\n",
    "top = tk.Tk()\n",
    "top.title(\"Audio\")\n",
    "top.geometry('200x200')\n",
    "start_button = tk.Button(top, text=\"Start Recording\", command=start_recording)\n",
    "start_button.pack(pady=10)\n",
    "stop_button = tk.Button(top, text=\"Stop Recording\", command=stop_recording)\n",
    "stop_button.pack(pady=10)\n",
    "label1 = Label(top, background='#CDCDCD', font=('arial',10,'bold'))\n",
    "label1.pack(side='bottom', expand='True')\n",
    "top.mainloop()"
   ]
  },
  {
   "cell_type": "markdown",
   "id": "ca75a0fe",
   "metadata": {},
   "source": [
    "# Real-Time Facial Emotion Detection"
   ]
  },
  {
   "cell_type": "code",
   "execution_count": 9,
   "id": "49561225",
   "metadata": {},
   "outputs": [
    {
     "name": "stdout",
     "output_type": "stream",
     "text": [
      "1/1 [==============================] - 0s 54ms/step\n"
     ]
    }
   ],
   "source": [
    "import cv2\n",
    "import numpy as np\n",
    "from tensorflow.keras.models import model_from_json\n",
    "from IPython.display import clear_output\n",
    "\n",
    "EMOTIONS_LIST = [\"Angry\",\"Disgust\",\"Fear\",\"Happy\",\"Neutral\",\"Sad\",\"Surprise\"]\n",
    "\n",
    "\n",
    "def Model(json_file, weights_file):\n",
    "    with open(json_file, \"r\") as file:\n",
    "        loaded_model_json = file.read()\n",
    "        model = model_from_json(loaded_model_json)\n",
    "    model.load_weights(weights_file)\n",
    "    model.compile(optimizer=\"adam\", loss=[\"categorical_crossentropy\"], metrics=[\"accuracy\"])\n",
    "    return model\n",
    "\n",
    "cap = cv2.VideoCapture(0)\n",
    "model = Model(\"model_a.json\", \"model_weights.h5\")\n",
    "facec = cv2.CascadeClassifier(cv2.data.haarcascades + 'haarcascade_frontalface_default.xml')\n",
    "\n",
    "while True:\n",
    "    ret, frame = cap.read()\n",
    "    if not ret:\n",
    "        break\n",
    "        \n",
    "    gray = cv2.cvtColor(frame, cv2.COLOR_BGR2GRAY)\n",
    "    faces = facec.detectMultiScale(gray, 1.3, 5)\n",
    "    \n",
    "    for (x, y, w, h) in faces:\n",
    "        roi_frame = frame[y:y+h, x:x+w]\n",
    "        #emotion = prediction(roi_frame)\n",
    "        roi_frame = cv2.flip(roi_frame, 1)\n",
    "        roi_frame = cv2.resize(roi_frame, (48, 48))\n",
    "        roi_frame = cv2.cvtColor(roi_frame, cv2.COLOR_BGR2GRAY)\n",
    "        roi_frame = roi_frame/255.0\n",
    "        roi_frame = np.expand_dims(roi_frame, axis=-1)\n",
    "        #print(\"Prediciton value: \",pred)\n",
    "        cv2.rectangle(frame, (x, y), (x + w, y + h), (0,255,0), 2)\n",
    "        pred = EMOTIONS_LIST[np.argmax(model.predict(roi_frame[np.newaxis,:,:,np.newaxis]))]\n",
    "        cv2.putText(frame, pred, (x, y - 10), cv2.FONT_HERSHEY_COMPLEX, 0.9, (0,255,0), 2)\n",
    "        clear_output(wait=True)\n",
    "\n",
    "    cv2.imshow('Drowsiness Detection', frame)\n",
    "\n",
    "    if cv2.waitKey(1) & 0xFF == ord('q'):\n",
    "        break\n",
    "\n",
    "cap.release()\n",
    "cv2.destroyAllWindows()"
   ]
  },
  {
   "cell_type": "code",
   "execution_count": null,
   "id": "8b7dfa2b",
   "metadata": {},
   "outputs": [],
   "source": []
  }
 ],
 "metadata": {
  "kernelspec": {
   "display_name": "Python 3 (ipykernel)",
   "language": "python",
   "name": "python3"
  },
  "language_info": {
   "codemirror_mode": {
    "name": "ipython",
    "version": 3
   },
   "file_extension": ".py",
   "mimetype": "text/x-python",
   "name": "python",
   "nbconvert_exporter": "python",
   "pygments_lexer": "ipython3",
   "version": "3.11.5"
  }
 },
 "nbformat": 4,
 "nbformat_minor": 5
}
