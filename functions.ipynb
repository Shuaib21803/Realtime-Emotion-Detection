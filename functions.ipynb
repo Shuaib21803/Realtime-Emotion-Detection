{
 "cells": [
  {
   "cell_type": "code",
   "execution_count": null,
   "id": "3d8ec849",
   "metadata": {},
   "outputs": [],
   "source": [
    "import numpy as np\n",
    "import librosa\n",
    "\n",
    "def extract(filepath, mfcc, chroma, mel):\n",
    "    try:\n",
    "        y,sr = librosa.load(filepath)\n",
    "        #sample_rate=22050\n",
    "        result = np.array([])\n",
    "        stft = np.abs(librosa.stft(y))\n",
    "        if mfcc:\n",
    "            mfcc = np.mean(librosa.feature.mfcc(y=y, sr=sr, n_mfcc=40).T, axis=0)\n",
    "            result = np.hstack((result, mfcc))\n",
    "        if chroma:\n",
    "            chroma = np.mean(librosa.feature.chroma_stft(S=stft, sr=sr).T, axis=0)\n",
    "            result = np.hstack((result, chroma))\n",
    "        if mel:\n",
    "            mel = np.mean(librosa.feature.melspectrogram(y=y, sr=sr).T, axis=0)\n",
    "            result = np.hstack((result, mel))\n",
    "        return result\n",
    "    \n",
    "    except Exception as e:\n",
    "        print(f\"Error processing {filepath}:e\")\n",
    "        return np.array([])"
   ]
  }
 ],
 "metadata": {
  "kernelspec": {
   "display_name": "Python 3 (ipykernel)",
   "language": "python",
   "name": "python3"
  },
  "language_info": {
   "codemirror_mode": {
    "name": "ipython",
    "version": 3
   },
   "file_extension": ".py",
   "mimetype": "text/x-python",
   "name": "python",
   "nbconvert_exporter": "python",
   "pygments_lexer": "ipython3",
   "version": "3.11.5"
  }
 },
 "nbformat": 4,
 "nbformat_minor": 5
}
